{
 "cells": [
  {
   "cell_type": "code",
   "execution_count": 15,
   "metadata": {
    "colab": {
     "base_uri": "https://localhost:8080/"
    },
    "id": "ztycW388ir8T",
    "outputId": "dc2420cf-45e5-4517-868a-b580accaf05d"
   },
   "outputs": [
    {
     "name": "stdout",
     "output_type": "stream",
     "text": [
      "      Name  Age           City  Salary\n",
      "0     John   28       New York   55000\n",
      "1    Emily   24    Los Angeles   62000\n",
      "2  Michael   22        Chicago   48000\n",
      "3   Sophia   30  San Francisco   71000\n",
      "4    David   26          Miami   59000\n"
     ]
    }
   ],
   "source": [
    "import pandas as pd\n",
    "\n",
    "# Sample data\n",
    "data = {\n",
    "    'Name': ['John', 'Emily', 'Michael', 'Sophia', 'David'],\n",
    "    'Age': [28, 24, 22, 30, 26],\n",
    "    'City': ['New York', 'Los Angeles', 'Chicago', 'San Francisco', 'Miami'],\n",
    "    'Salary': [55000, 62000, 48000, 71000, 59000]\n",
    "}\n",
    "\n",
    "# Create a DataFrame\n",
    "df = pd.DataFrame(data)\n",
    "\n",
    "print(df)\n"
   ]
  },
  {
   "cell_type": "markdown",
   "metadata": {
    "id": "aysy3Ya2x6rO"
   },
   "source": [
    "# pandas with scenarios:"
   ]
  },
  {
   "cell_type": "markdown",
   "metadata": {
    "id": "SrqSNvbh3Mvu"
   },
   "source": [
    "**1.Sure, let's consider a real-time scenario of analyzing sales data for an e-commerce company using Pandas. We will assume that the company has a dataset containing information about their sales transactions, and we want to perform various data analysis tasks using Pandas.**"
   ]
  },
  {
   "cell_type": "code",
   "execution_count": 16,
   "metadata": {
    "id": "T2tEIUlwjnnm"
   },
   "outputs": [],
   "source": [
    "import pandas as pd\n",
    "\n",
    "# Read the CSV file into a DataFrame\n",
    "df = pd.read_csv('C:/Users/Raghu/Documents/datasets/pandas_sales_data.csv') # C:\\Users\\Raghu\\Documents\\datasets"
   ]
  },
  {
   "cell_type": "code",
   "execution_count": 17,
   "metadata": {},
   "outputs": [
    {
     "data": {
      "text/html": [
       "<div>\n",
       "<style scoped>\n",
       "    .dataframe tbody tr th:only-of-type {\n",
       "        vertical-align: middle;\n",
       "    }\n",
       "\n",
       "    .dataframe tbody tr th {\n",
       "        vertical-align: top;\n",
       "    }\n",
       "\n",
       "    .dataframe thead th {\n",
       "        text-align: right;\n",
       "    }\n",
       "</style>\n",
       "<table border=\"1\" class=\"dataframe\">\n",
       "  <thead>\n",
       "    <tr style=\"text-align: right;\">\n",
       "      <th></th>\n",
       "      <th>OrderID</th>\n",
       "      <th>CustomerID</th>\n",
       "      <th>Product</th>\n",
       "      <th>Quantity</th>\n",
       "      <th>Price</th>\n",
       "      <th>Date</th>\n",
       "    </tr>\n",
       "  </thead>\n",
       "  <tbody>\n",
       "    <tr>\n",
       "      <th>0</th>\n",
       "      <td>1001</td>\n",
       "      <td>C001</td>\n",
       "      <td>Laptop</td>\n",
       "      <td>2</td>\n",
       "      <td>800</td>\n",
       "      <td>15-07-2023</td>\n",
       "    </tr>\n",
       "    <tr>\n",
       "      <th>1</th>\n",
       "      <td>1002</td>\n",
       "      <td>C002</td>\n",
       "      <td>Smartphone</td>\n",
       "      <td>3</td>\n",
       "      <td>500</td>\n",
       "      <td>15-07-2023</td>\n",
       "    </tr>\n",
       "    <tr>\n",
       "      <th>2</th>\n",
       "      <td>1003</td>\n",
       "      <td>C003</td>\n",
       "      <td>Headphones</td>\n",
       "      <td>5</td>\n",
       "      <td>50</td>\n",
       "      <td>16-07-2023</td>\n",
       "    </tr>\n",
       "    <tr>\n",
       "      <th>3</th>\n",
       "      <td>1004</td>\n",
       "      <td>C004</td>\n",
       "      <td>Monitor</td>\n",
       "      <td>1</td>\n",
       "      <td>300</td>\n",
       "      <td>16-07-2023</td>\n",
       "    </tr>\n",
       "    <tr>\n",
       "      <th>4</th>\n",
       "      <td>1005</td>\n",
       "      <td>C005</td>\n",
       "      <td>Keyboard</td>\n",
       "      <td>4</td>\n",
       "      <td>30</td>\n",
       "      <td>17-07-2023</td>\n",
       "    </tr>\n",
       "    <tr>\n",
       "      <th>5</th>\n",
       "      <td>1006</td>\n",
       "      <td>C002</td>\n",
       "      <td>Smartphone</td>\n",
       "      <td>1</td>\n",
       "      <td>500</td>\n",
       "      <td>17-07-2023</td>\n",
       "    </tr>\n",
       "    <tr>\n",
       "      <th>6</th>\n",
       "      <td>1007</td>\n",
       "      <td>C006</td>\n",
       "      <td>Mouse</td>\n",
       "      <td>2</td>\n",
       "      <td>20</td>\n",
       "      <td>18-07-2023</td>\n",
       "    </tr>\n",
       "    <tr>\n",
       "      <th>7</th>\n",
       "      <td>1008</td>\n",
       "      <td>C007</td>\n",
       "      <td>Printer</td>\n",
       "      <td>1</td>\n",
       "      <td>200</td>\n",
       "      <td>18-07-2023</td>\n",
       "    </tr>\n",
       "    <tr>\n",
       "      <th>8</th>\n",
       "      <td>1009</td>\n",
       "      <td>C003</td>\n",
       "      <td>Headphones</td>\n",
       "      <td>2</td>\n",
       "      <td>50</td>\n",
       "      <td>18-07-2023</td>\n",
       "    </tr>\n",
       "    <tr>\n",
       "      <th>9</th>\n",
       "      <td>1010</td>\n",
       "      <td>C008</td>\n",
       "      <td>External HDD</td>\n",
       "      <td>1</td>\n",
       "      <td>100</td>\n",
       "      <td>19-07-2023</td>\n",
       "    </tr>\n",
       "  </tbody>\n",
       "</table>\n",
       "</div>"
      ],
      "text/plain": [
       "   OrderID CustomerID       Product  Quantity  Price        Date\n",
       "0     1001       C001        Laptop         2    800  15-07-2023\n",
       "1     1002       C002    Smartphone         3    500  15-07-2023\n",
       "2     1003       C003    Headphones         5     50  16-07-2023\n",
       "3     1004       C004       Monitor         1    300  16-07-2023\n",
       "4     1005       C005      Keyboard         4     30  17-07-2023\n",
       "5     1006       C002    Smartphone         1    500  17-07-2023\n",
       "6     1007       C006         Mouse         2     20  18-07-2023\n",
       "7     1008       C007       Printer         1    200  18-07-2023\n",
       "8     1009       C003    Headphones         2     50  18-07-2023\n",
       "9     1010       C008  External HDD         1    100  19-07-2023"
      ]
     },
     "execution_count": 17,
     "metadata": {},
     "output_type": "execute_result"
    }
   ],
   "source": [
    "df"
   ]
  },
  {
   "cell_type": "code",
   "execution_count": 18,
   "metadata": {},
   "outputs": [
    {
     "data": {
      "text/plain": [
       "(10, 6)"
      ]
     },
     "execution_count": 18,
     "metadata": {},
     "output_type": "execute_result"
    }
   ],
   "source": [
    "df.shape"
   ]
  },
  {
   "cell_type": "code",
   "execution_count": 19,
   "metadata": {
    "colab": {
     "base_uri": "https://localhost:8080/"
    },
    "id": "u_Z0df0w059u",
    "outputId": "83933447-86a6-4943-adfe-84e63eaeba68"
   },
   "outputs": [
    {
     "name": "stdout",
     "output_type": "stream",
     "text": [
      "   OrderID CustomerID     Product  Quantity  Price        Date\n",
      "0     1001       C001      Laptop         2    800  15-07-2023\n",
      "1     1002       C002  Smartphone         3    500  15-07-2023\n",
      "2     1003       C003  Headphones         5     50  16-07-2023\n",
      "3     1004       C004     Monitor         1    300  16-07-2023\n",
      "4     1005       C005    Keyboard         4     30  17-07-2023\n"
     ]
    }
   ],
   "source": [
    "# Display the first few rows of the DataFrame\n",
    "print(df.head())"
   ]
  },
  {
   "cell_type": "code",
   "execution_count": 20,
   "metadata": {},
   "outputs": [
    {
     "name": "stdout",
     "output_type": "stream",
     "text": [
      "          OrderID   Quantity       Price\n",
      "count    10.00000  10.000000   10.000000\n",
      "mean   1005.50000   2.200000  255.000000\n",
      "std       3.02765   1.398412  265.842476\n",
      "min    1001.00000   1.000000   20.000000\n",
      "25%    1003.25000   1.000000   50.000000\n",
      "50%    1005.50000   2.000000  150.000000\n",
      "75%    1007.75000   2.750000  450.000000\n",
      "max    1010.00000   5.000000  800.000000\n"
     ]
    }
   ],
   "source": [
    "# Get basic statistics of the numerical columns\n",
    "print(df.describe())"
   ]
  },
  {
   "cell_type": "code",
   "execution_count": 21,
   "metadata": {
    "colab": {
     "base_uri": "https://localhost:8080/"
    },
    "id": "IbcY8fOa08RL",
    "outputId": "2f2503cc-118f-4015-8a2e-bb20b4318296"
   },
   "outputs": [
    {
     "name": "stdout",
     "output_type": "stream",
     "text": [
      "Total Sales Revenue: 4710\n"
     ]
    }
   ],
   "source": [
    "# Calculate total sales revenue:\n",
    "df['Total Revenue'] = df['Quantity'] * df['Price']\n",
    "total_revenue = df['Total Revenue'].sum()\n",
    "print('Total Sales Revenue:', total_revenue)\n"
   ]
  },
  {
   "cell_type": "code",
   "execution_count": 22,
   "metadata": {},
   "outputs": [
    {
     "name": "stdout",
     "output_type": "stream",
     "text": [
      "<class 'pandas.core.frame.DataFrame'>\n",
      "RangeIndex: 10 entries, 0 to 9\n",
      "Data columns (total 7 columns):\n",
      " #   Column         Non-Null Count  Dtype \n",
      "---  ------         --------------  ----- \n",
      " 0   OrderID        10 non-null     int64 \n",
      " 1   CustomerID     10 non-null     object\n",
      " 2   Product        10 non-null     object\n",
      " 3   Quantity       10 non-null     int64 \n",
      " 4   Price          10 non-null     int64 \n",
      " 5   Date           10 non-null     object\n",
      " 6   Total Revenue  10 non-null     int64 \n",
      "dtypes: int64(4), object(3)\n",
      "memory usage: 688.0+ bytes\n",
      "None\n"
     ]
    }
   ],
   "source": [
    "# Check the data types and missing values\n",
    "print(df.info())"
   ]
  },
  {
   "cell_type": "code",
   "execution_count": 23,
   "metadata": {
    "colab": {
     "base_uri": "https://localhost:8080/"
    },
    "id": "PGojbR2Q0-pF",
    "outputId": "fbbca19c-826d-4763-d373-1fbba87d03bd"
   },
   "outputs": [
    {
     "name": "stdout",
     "output_type": "stream",
     "text": [
      "Top Selling Products:\n",
      "      Product  Quantity\n",
      "1  Headphones         7\n",
      "2    Keyboard         4\n",
      "7  Smartphone         4\n",
      "3      Laptop         2\n",
      "5       Mouse         2\n"
     ]
    }
   ],
   "source": [
    "# Top Selling Products:\n",
    "# Group the data by product and calculate the total quantity sold for each product\n",
    "product_sales = df.groupby('Product')['Quantity'].sum().reset_index()\n",
    "\n",
    "# Sort the products based on quantity sold in descending order\n",
    "top_selling_products = product_sales.sort_values('Quantity', ascending=False)\n",
    "print('Top Selling Products:')\n",
    "print(top_selling_products.head())\n"
   ]
  },
  {
   "cell_type": "code",
   "execution_count": 24,
   "metadata": {
    "colab": {
     "base_uri": "https://localhost:8080/"
    },
    "id": "2GtYkmw21AoP",
    "outputId": "fdf48a3f-3c6c-4c74-860c-c6b6cb84cfcf"
   },
   "outputs": [
    {
     "name": "stderr",
     "output_type": "stream",
     "text": [
      "C:\\Users\\Raghu\\AppData\\Local\\Temp\\ipykernel_2396\\3456647990.py:3: UserWarning: Parsing dates in %d-%m-%Y format when dayfirst=False (the default) was specified. Pass `dayfirst=True` or specify a format to silence this warning.\n",
      "  df['Time'] = pd.to_datetime(df['Date']) # check data is dispaled in new format.\n"
     ]
    },
    {
     "ename": "AttributeError",
     "evalue": "Can only use .dt accessor with datetimelike values",
     "output_type": "error",
     "traceback": [
      "\u001b[1;31m---------------------------------------------------------------------------\u001b[0m",
      "\u001b[1;31mAttributeError\u001b[0m                            Traceback (most recent call last)",
      "Cell \u001b[1;32mIn[24], line 6\u001b[0m\n\u001b[0;32m      3\u001b[0m df[\u001b[38;5;124m'\u001b[39m\u001b[38;5;124mTime\u001b[39m\u001b[38;5;124m'\u001b[39m] \u001b[38;5;241m=\u001b[39m pd\u001b[38;5;241m.\u001b[39mto_datetime(df[\u001b[38;5;124m'\u001b[39m\u001b[38;5;124mDate\u001b[39m\u001b[38;5;124m'\u001b[39m]) \u001b[38;5;66;03m# check data is dispaled in new format.\u001b[39;00m\n\u001b[0;32m      5\u001b[0m \u001b[38;5;66;03m# Extract the month and year from the 'Date' column\u001b[39;00m\n\u001b[1;32m----> 6\u001b[0m df[\u001b[38;5;124m'\u001b[39m\u001b[38;5;124mMonth\u001b[39m\u001b[38;5;124m'\u001b[39m] \u001b[38;5;241m=\u001b[39m \u001b[43mdf\u001b[49m\u001b[43m[\u001b[49m\u001b[38;5;124;43m'\u001b[39;49m\u001b[38;5;124;43mDate\u001b[39;49m\u001b[38;5;124;43m'\u001b[39;49m\u001b[43m]\u001b[49m\u001b[38;5;241;43m.\u001b[39;49m\u001b[43mdt\u001b[49m\u001b[38;5;241m.\u001b[39mmonth\n\u001b[0;32m      7\u001b[0m df[\u001b[38;5;124m'\u001b[39m\u001b[38;5;124mYear\u001b[39m\u001b[38;5;124m'\u001b[39m] \u001b[38;5;241m=\u001b[39m df[\u001b[38;5;124m'\u001b[39m\u001b[38;5;124mDate\u001b[39m\u001b[38;5;124m'\u001b[39m]\u001b[38;5;241m.\u001b[39mdt\u001b[38;5;241m.\u001b[39myear\n\u001b[0;32m      9\u001b[0m \u001b[38;5;66;03m# Group the data by year and month and calculate the total sales for each month\u001b[39;00m\n",
      "File \u001b[1;32m~\\AppData\\Local\\Programs\\Python\\Python310\\lib\\site-packages\\pandas\\core\\generic.py:5989\u001b[0m, in \u001b[0;36mNDFrame.__getattr__\u001b[1;34m(self, name)\u001b[0m\n\u001b[0;32m   5982\u001b[0m \u001b[38;5;28;01mif\u001b[39;00m (\n\u001b[0;32m   5983\u001b[0m     name \u001b[38;5;129;01mnot\u001b[39;00m \u001b[38;5;129;01min\u001b[39;00m \u001b[38;5;28mself\u001b[39m\u001b[38;5;241m.\u001b[39m_internal_names_set\n\u001b[0;32m   5984\u001b[0m     \u001b[38;5;129;01mand\u001b[39;00m name \u001b[38;5;129;01mnot\u001b[39;00m \u001b[38;5;129;01min\u001b[39;00m \u001b[38;5;28mself\u001b[39m\u001b[38;5;241m.\u001b[39m_metadata\n\u001b[0;32m   5985\u001b[0m     \u001b[38;5;129;01mand\u001b[39;00m name \u001b[38;5;129;01mnot\u001b[39;00m \u001b[38;5;129;01min\u001b[39;00m \u001b[38;5;28mself\u001b[39m\u001b[38;5;241m.\u001b[39m_accessors\n\u001b[0;32m   5986\u001b[0m     \u001b[38;5;129;01mand\u001b[39;00m \u001b[38;5;28mself\u001b[39m\u001b[38;5;241m.\u001b[39m_info_axis\u001b[38;5;241m.\u001b[39m_can_hold_identifiers_and_holds_name(name)\n\u001b[0;32m   5987\u001b[0m ):\n\u001b[0;32m   5988\u001b[0m     \u001b[38;5;28;01mreturn\u001b[39;00m \u001b[38;5;28mself\u001b[39m[name]\n\u001b[1;32m-> 5989\u001b[0m \u001b[38;5;28;01mreturn\u001b[39;00m \u001b[38;5;28;43mobject\u001b[39;49m\u001b[38;5;241;43m.\u001b[39;49m\u001b[38;5;21;43m__getattribute__\u001b[39;49m\u001b[43m(\u001b[49m\u001b[38;5;28;43mself\u001b[39;49m\u001b[43m,\u001b[49m\u001b[43m \u001b[49m\u001b[43mname\u001b[49m\u001b[43m)\u001b[49m\n",
      "File \u001b[1;32m~\\AppData\\Local\\Programs\\Python\\Python310\\lib\\site-packages\\pandas\\core\\accessor.py:224\u001b[0m, in \u001b[0;36mCachedAccessor.__get__\u001b[1;34m(self, obj, cls)\u001b[0m\n\u001b[0;32m    221\u001b[0m \u001b[38;5;28;01mif\u001b[39;00m obj \u001b[38;5;129;01mis\u001b[39;00m \u001b[38;5;28;01mNone\u001b[39;00m:\n\u001b[0;32m    222\u001b[0m     \u001b[38;5;66;03m# we're accessing the attribute of the class, i.e., Dataset.geo\u001b[39;00m\n\u001b[0;32m    223\u001b[0m     \u001b[38;5;28;01mreturn\u001b[39;00m \u001b[38;5;28mself\u001b[39m\u001b[38;5;241m.\u001b[39m_accessor\n\u001b[1;32m--> 224\u001b[0m accessor_obj \u001b[38;5;241m=\u001b[39m \u001b[38;5;28;43mself\u001b[39;49m\u001b[38;5;241;43m.\u001b[39;49m\u001b[43m_accessor\u001b[49m\u001b[43m(\u001b[49m\u001b[43mobj\u001b[49m\u001b[43m)\u001b[49m\n\u001b[0;32m    225\u001b[0m \u001b[38;5;66;03m# Replace the property with the accessor object. Inspired by:\u001b[39;00m\n\u001b[0;32m    226\u001b[0m \u001b[38;5;66;03m# https://www.pydanny.com/cached-property.html\u001b[39;00m\n\u001b[0;32m    227\u001b[0m \u001b[38;5;66;03m# We need to use object.__setattr__ because we overwrite __setattr__ on\u001b[39;00m\n\u001b[0;32m    228\u001b[0m \u001b[38;5;66;03m# NDFrame\u001b[39;00m\n\u001b[0;32m    229\u001b[0m \u001b[38;5;28mobject\u001b[39m\u001b[38;5;241m.\u001b[39m\u001b[38;5;21m__setattr__\u001b[39m(obj, \u001b[38;5;28mself\u001b[39m\u001b[38;5;241m.\u001b[39m_name, accessor_obj)\n",
      "File \u001b[1;32m~\\AppData\\Local\\Programs\\Python\\Python310\\lib\\site-packages\\pandas\\core\\indexes\\accessors.py:580\u001b[0m, in \u001b[0;36mCombinedDatetimelikeProperties.__new__\u001b[1;34m(cls, data)\u001b[0m\n\u001b[0;32m    577\u001b[0m \u001b[38;5;28;01melif\u001b[39;00m is_period_dtype(data\u001b[38;5;241m.\u001b[39mdtype):\n\u001b[0;32m    578\u001b[0m     \u001b[38;5;28;01mreturn\u001b[39;00m PeriodProperties(data, orig)\n\u001b[1;32m--> 580\u001b[0m \u001b[38;5;28;01mraise\u001b[39;00m \u001b[38;5;167;01mAttributeError\u001b[39;00m(\u001b[38;5;124m\"\u001b[39m\u001b[38;5;124mCan only use .dt accessor with datetimelike values\u001b[39m\u001b[38;5;124m\"\u001b[39m)\n",
      "\u001b[1;31mAttributeError\u001b[0m: Can only use .dt accessor with datetimelike values"
     ]
    }
   ],
   "source": [
    "# Monthly Sales Analysis:\n",
    "# Convert the 'Date' column to a datetime data type\n",
    "df['Time'] = pd.to_datetime(df['Date']) # check data is dispaled in new format.\n",
    "\n",
    "# Extract the month and year from the 'Date' column\n",
    "df['Month'] = df['Date'].dt.month\n",
    "df['Year'] = df['Date'].dt.year\n",
    "\n",
    "# Group the data by year and month and calculate the total sales for each month\n",
    "monthly_sales = df.groupby(['Year', 'Month'])['Total Revenue'].sum().reset_index()\n",
    "\n",
    "print('Monthly Sales Analysis:')\n",
    "monthly_sales\n"
   ]
  },
  {
   "cell_type": "code",
   "execution_count": null,
   "metadata": {
    "colab": {
     "base_uri": "https://localhost:8080/"
    },
    "id": "WUj7hwL31K6U",
    "outputId": "4ceb5c3b-6c4b-43a1-b8db-4a667c7a4af1"
   },
   "outputs": [],
   "source": [
    "# Customer Lifetime Value:\n",
    "# Calculate the total spending for each customer\n",
    "customer_spending = df.groupby('CustomerID')['Total Revenue'].sum().reset_index()\n",
    "\n",
    "# Sort customers based on total spending in descending order\n",
    "top_customers = customer_spending.sort_values('Total Revenue', ascending=False)\n",
    "\n",
    "print('Top Customers by Lifetime Value:')\n",
    "print(top_customers.head())\n"
   ]
  },
  {
   "cell_type": "code",
   "execution_count": null,
   "metadata": {
    "colab": {
     "base_uri": "https://localhost:8080/",
     "height": 564
    },
    "id": "OVDe_fHl1R2O",
    "outputId": "02eb062f-ca6a-401a-cccb-833709ae687c"
   },
   "outputs": [],
   "source": [
    "# Visualizing Top Selling Products:\n",
    "import matplotlib.pyplot as plt\n",
    "import seaborn as sns\n",
    "\n",
    "# Plotting a bar chart for top selling products\n",
    "plt.figure(figsize=(10, 6))\n",
    "sns.barplot(x='Quantity', y='Product', data=top_selling_products.head(10))\n",
    "plt.title('Top Selling Products')\n",
    "plt.xlabel('Quantity Sold')\n",
    "plt.ylabel('Product')\n",
    "plt.show()\n"
   ]
  },
  {
   "cell_type": "code",
   "execution_count": null,
   "metadata": {
    "colab": {
     "base_uri": "https://localhost:8080/",
     "height": 564
    },
    "id": "ctP945eg1wQ-",
    "outputId": "f5b4c907-6c66-4de2-f4fc-b7224f77e0c6"
   },
   "outputs": [],
   "source": [
    "# Monthly Sales Trend:\n",
    "# Plotting a line chart for monthly sales trend\n",
    "plt.figure(figsize=(10, 6))\n",
    "sns.lineplot(x='Month', y='Total Revenue', hue='Year', data=monthly_sales)\n",
    "plt.title('Monthly Sales Trend')\n",
    "plt.xlabel('Month')\n",
    "plt.ylabel('Total Revenue')\n",
    "plt.show()\n"
   ]
  },
  {
   "cell_type": "code",
   "execution_count": null,
   "metadata": {
    "colab": {
     "base_uri": "https://localhost:8080/",
     "height": 564
    },
    "id": "GbYRm0O115AW",
    "outputId": "62a960ba-e4e8-4145-e67c-43323152eeed"
   },
   "outputs": [],
   "source": [
    "# Customer Lifetime Value:\n",
    "# Plotting a bar chart for top customers by lifetime value\n",
    "plt.figure(figsize=(10, 6))\n",
    "sns.barplot(x='Total Revenue', y='CustomerID', data=top_customers.head(10))\n",
    "plt.title('Top Customers by Lifetime Value')\n",
    "plt.xlabel('Total Spending')\n",
    "plt.ylabel('Customer ID')\n",
    "plt.show()\n"
   ]
  },
  {
   "cell_type": "code",
   "execution_count": null,
   "metadata": {
    "colab": {
     "base_uri": "https://localhost:8080/",
     "height": 356
    },
    "id": "1ooXb2gZ2Cll",
    "outputId": "23813e9e-9e7d-4747-bae8-9c103b3ef83a"
   },
   "outputs": [],
   "source": [
    "# Customer Segmentation by Total Spending:\n",
    "# Create bins for total spending\n",
    "bins = [0, 100, 500, 1000, 5000, df['Total Revenue'].max()]\n",
    "labels = ['Low', 'Medium', 'High', 'Very High', 'Super High']\n",
    "df['Spending Category'] = pd.cut(df['Total Revenue'], bins=bins, labels=labels)\n",
    "\n",
    "# Plotting a pie chart for customer segmentation by total spending\n",
    "plt.figure(figsize=(8, 8))\n",
    "plt.pie(df['Spending Category'].value_counts(), labels=labels, autopct='%1.1f%%', startangle=140)\n",
    "plt.title('Customer Segmentation by Total Spending')\n",
    "plt.axis('equal')\n",
    "plt.show()\n"
   ]
  },
  {
   "cell_type": "code",
   "execution_count": null,
   "metadata": {
    "id": "MLId3G7-2HAF"
   },
   "outputs": [],
   "source": []
  },
  {
   "cell_type": "markdown",
   "metadata": {
    "id": "4K3Lv_gX4toM"
   },
   "source": [
    "# Scenario: Retail Store Inventory Management"
   ]
  },
  {
   "cell_type": "code",
   "execution_count": null,
   "metadata": {
    "id": "NlbCv7S44yVD"
   },
   "outputs": [],
   "source": [
    "import pandas as pd\n",
    "\n",
    "# Read the CSV file into a DataFrame\n",
    "#df_inventory = pd.read_csv('https://raw.githubusercontent.com/9394113857/Data-Sets/raghu/inventory_data.csv')\n",
    "\n",
    "df_inventory = pd.read_csv('C:/Users/Raghu/Documents/csv files created/inventory_data.csv')"
   ]
  },
  {
   "cell_type": "code",
   "execution_count": null,
   "metadata": {
    "colab": {
     "base_uri": "https://localhost:8080/"
    },
    "id": "krs99K0G4ywI",
    "outputId": "4009d818-2345-4c39-94c0-09cc8cebca26"
   },
   "outputs": [],
   "source": [
    "# Display the first few rows of the DataFrame\n",
    "print(df_inventory.head())\n",
    "print()\n",
    "\n",
    "# Get basic statistics of the numerical columns\n",
    "print(df_inventory.describe())\n",
    "print()\n",
    "\n",
    "# Check the data types and missing values\n",
    "print(df_inventory.info())\n"
   ]
  },
  {
   "cell_type": "code",
   "execution_count": null,
   "metadata": {
    "colab": {
     "base_uri": "https://localhost:8080/"
    },
    "id": "ZA1Ejzcm44fX",
    "outputId": "ec176c13-f8b0-4373-a453-2c1bea1ce564"
   },
   "outputs": [],
   "source": [
    "# Calculate the total value of each product in the inventory\n",
    "df_inventory['TotalValue'] = df_inventory['QuantityAvailable'] * df_inventory['Price']\n",
    "\n",
    "# Calculate the total value of the entire inventory\n",
    "total_inventory_value = df_inventory['TotalValue'].sum()\n",
    "\n",
    "# Get the total number of products in the inventory\n",
    "total_products = len(df_inventory)\n",
    "\n",
    "# Display the total inventory value and total number of products\n",
    "print('Total Inventory Value:', total_inventory_value)\n",
    "print('Total Number of Products:', total_products)\n"
   ]
  },
  {
   "cell_type": "code",
   "execution_count": null,
   "metadata": {
    "colab": {
     "base_uri": "https://localhost:8080/"
    },
    "id": "XTev-_yM46Wv",
    "outputId": "92258e89-958a-4be2-de8c-ef2573443b7f"
   },
   "outputs": [],
   "source": [
    "# Group the data by category and calculate the total quantity and value available for each category\n",
    "category_inventory = df_inventory.groupby('Category').agg({'QuantityAvailable': 'sum', 'TotalValue': 'sum'}).reset_index()\n",
    "\n",
    "print('Category-wise Inventory:')\n",
    "print(category_inventory)\n"
   ]
  },
  {
   "cell_type": "code",
   "execution_count": null,
   "metadata": {
    "colab": {
     "base_uri": "https://localhost:8080/"
    },
    "id": "In0WlsL948XJ",
    "outputId": "d8c5e366-e728-4e17-b7ae-c4ac338b4a41"
   },
   "outputs": [],
   "source": [
    "# Define a threshold for low stock alert\n",
    "low_stock_threshold = 10\n",
    "\n",
    "# Filter products with quantity available less than the threshold\n",
    "low_stock_products = df_inventory[df_inventory['QuantityAvailable'] < low_stock_threshold]\n",
    "\n",
    "print('Low Stock Products:')\n",
    "print(low_stock_products)\n"
   ]
  },
  {
   "cell_type": "code",
   "execution_count": null,
   "metadata": {
    "colab": {
     "base_uri": "https://localhost:8080/",
     "height": 380
    },
    "id": "4Puagzst49hq",
    "outputId": "3bead7ac-8f44-4f66-c524-e9122f2ba7b8"
   },
   "outputs": [],
   "source": [
    "# Assuming we have a separate sales dataset with OrderID, ProductID, and QuantitySold columns\n",
    "# Read the sales data into a DataFrame\n",
    "df_sales = pd.read_csv('sales_data.csv')\n",
    "\n",
    "# Group the sales data by product and calculate the total quantity sold for each product\n",
    "product_sales = df_sales.groupby('ProductID')['QuantitySold'].sum().reset_index()\n",
    "\n",
    "# Merge the product_sales DataFrame with the inventory DataFrame to get product names\n",
    "merged_df = pd.merge(product_sales, df_inventory[['ProductID', 'ProductName']], on='ProductID', how='left')\n",
    "\n",
    "# Sort products based on quantity sold in descending order\n",
    "top_selling_products = merged_df.sort_values('QuantitySold', ascending=False)\n",
    "\n",
    "print('Top Selling Products:')\n",
    "print(top_selling_products.head())\n"
   ]
  },
  {
   "cell_type": "code",
   "execution_count": null,
   "metadata": {
    "colab": {
     "base_uri": "https://localhost:8080/",
     "height": 380
    },
    "id": "NHTNR4JR4_oa",
    "outputId": "190541fb-4481-489f-b903-11103dec3e0e"
   },
   "outputs": [],
   "source": [
    "# Assuming we have a separate sales dataset with OrderID, ProductID, and QuantitySold columns\n",
    "# Read the sales data into a DataFrame\n",
    "df_sales = pd.read_csv('sales_data.csv')\n",
    "\n",
    "# Group the sales data by product and calculate the total quantity sold for each product\n",
    "product_sales = df_sales.groupby('ProductID')['QuantitySold'].sum().reset_index()\n",
    "\n",
    "# Merge the product_sales DataFrame with the inventory DataFrame to get product names\n",
    "merged_df = pd.merge(product_sales, df_inventory[['ProductID', 'ProductName']], on='ProductID', how='left')\n",
    "\n",
    "# Sort products based on quantity sold in descending order\n",
    "top_selling_products = merged_df.sort_values('QuantitySold', ascending=False)\n",
    "\n",
    "print('Top Selling Products:')\n",
    "print(top_selling_products.head())\n"
   ]
  },
  {
   "cell_type": "code",
   "execution_count": null,
   "metadata": {
    "id": "4W6vqRD95Bsn"
   },
   "outputs": [],
   "source": []
  },
  {
   "cell_type": "markdown",
   "metadata": {
    "id": "iexKlT0bJ4fl"
   },
   "source": [
    "**plots:**"
   ]
  },
  {
   "cell_type": "code",
   "execution_count": null,
   "metadata": {
    "colab": {
     "base_uri": "https://localhost:8080/",
     "height": 617
    },
    "id": "_X6NW6AxJ6p1",
    "outputId": "67af9d7e-921c-47bd-e8c6-916c7a833d61"
   },
   "outputs": [],
   "source": [
    "# Category-wise Inventory Bar Chart:\n",
    "import matplotlib.pyplot as plt\n",
    "import seaborn as sns\n",
    "\n",
    "# Plotting a bar chart for category-wise inventory\n",
    "plt.figure(figsize=(10, 6))\n",
    "sns.barplot(x='Category', y='QuantityAvailable', data=category_inventory)\n",
    "plt.title('Category-wise Inventory')\n",
    "plt.xlabel('Category')\n",
    "plt.ylabel('Quantity Available')\n",
    "plt.xticks(rotation=45)\n",
    "plt.show()\n"
   ]
  },
  {
   "cell_type": "code",
   "execution_count": null,
   "metadata": {
    "colab": {
     "base_uri": "https://localhost:8080/",
     "height": 397
    },
    "id": "jNDr3sGOJ9x1",
    "outputId": "9e933ae4-1454-4cc1-c7f9-c4e555f68026"
   },
   "outputs": [],
   "source": [
    "# Low Stock Products Bar Chart:\n",
    "# Plotting a bar chart for low stock products\n",
    "plt.figure(figsize=(10, 6))\n",
    "sns.barplot(x='ProductName', y='QuantityAvailable', data=low_stock_products)\n",
    "plt.title('Low Stock Products')\n",
    "plt.xlabel('Product Name')\n",
    "plt.ylabel('Quantity Available')\n",
    "plt.xticks(rotation=45)\n",
    "plt.show()\n"
   ]
  },
  {
   "cell_type": "code",
   "execution_count": null,
   "metadata": {
    "colab": {
     "base_uri": "https://localhost:8080/",
     "height": 397
    },
    "id": "sE8fNEWfKCfI",
    "outputId": "6a86e53d-be8c-4b9d-d526-ff3ff2b61278"
   },
   "outputs": [],
   "source": [
    "# Top Selling Products Bar Chart:\n",
    "# Plotting a bar chart for top selling products\n",
    "plt.figure(figsize=(10, 6))\n",
    "sns.barplot(x='ProductName', y='QuantitySold', data=top_selling_products.head(10))\n",
    "plt.title('Top Selling Products')\n",
    "plt.xlabel('Product Name')\n",
    "plt.ylabel('Quantity Sold')\n",
    "plt.xticks(rotation=45)\n",
    "plt.show()\n"
   ]
  },
  {
   "cell_type": "code",
   "execution_count": null,
   "metadata": {
    "colab": {
     "base_uri": "https://localhost:8080/",
     "height": 675
    },
    "id": "OgwUKfg0KHUN",
    "outputId": "76224eb1-5420-492f-9f46-636d13d1060c"
   },
   "outputs": [],
   "source": [
    "# Total Inventory Value Pie Chart:\n",
    "# Plotting a pie chart for the contribution of each category to the total inventory value\n",
    "plt.figure(figsize=(8, 8))\n",
    "plt.pie(category_inventory['TotalValue'], labels=category_inventory['Category'], autopct='%1.1f%%', startangle=140)\n",
    "plt.title('Category-wise Contribution to Total Inventory Value')\n",
    "plt.axis('equal')\n",
    "plt.show()\n"
   ]
  },
  {
   "cell_type": "code",
   "execution_count": null,
   "metadata": {
    "id": "RFVuqEa0KP-o"
   },
   "outputs": [],
   "source": []
  },
  {
   "cell_type": "markdown",
   "metadata": {
    "id": "JwOVL2oxKU3e"
   },
   "source": [
    "These visualizations provide valuable insights into the retail store's inventory management. The bar charts help visualize the quantity of products available in each category and highlight the products with low stock. The pie chart gives a clear picture of how different categories contribute to the total inventory value. With this visual representation of data, the store can make informed decisions about inventory restocking, product promotion, and category-based strategies.\n",
    "\n",
    "Remember that the choice of visualizations depends on the specific questions you want to answer and the nature of the data. These examples use Seaborn for plotting, but you can also explore other visualization libraries like Plotly or customize the plots further to match your requirements."
   ]
  },
  {
   "cell_type": "code",
   "execution_count": null,
   "metadata": {
    "colab": {
     "background_save": true
    },
    "id": "4RUFkWJvKVWm"
   },
   "outputs": [],
   "source": []
  }
 ],
 "metadata": {
  "colab": {
   "provenance": []
  },
  "kernelspec": {
   "display_name": "Python 3 (ipykernel)",
   "language": "python",
   "name": "python3"
  },
  "language_info": {
   "codemirror_mode": {
    "name": "ipython",
    "version": 3
   },
   "file_extension": ".py",
   "mimetype": "text/x-python",
   "name": "python",
   "nbconvert_exporter": "python",
   "pygments_lexer": "ipython3",
   "version": "3.10.2"
  }
 },
 "nbformat": 4,
 "nbformat_minor": 4
}
